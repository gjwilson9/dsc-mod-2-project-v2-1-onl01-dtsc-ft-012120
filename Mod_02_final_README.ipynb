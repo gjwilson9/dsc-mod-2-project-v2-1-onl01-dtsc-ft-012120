{
 "cells": [
  {
   "cell_type": "markdown",
   "metadata": {},
   "source": [
    "# Housing Price Prediction Modeling"
   ]
  },
  {
   "cell_type": "markdown",
   "metadata": {},
   "source": [
    "## Overview"
   ]
  },
  {
   "cell_type": "markdown",
   "metadata": {},
   "source": [
    "Provided is a real estate dataset of house sales in King County, Washington. The data provided in a csv (kc_house_data.csv) are as follows:\n",
    "* Price - Home sale price\n",
    "* Date - Sale date\n",
    "* Bedrooms - Number of bedrooms\n",
    "* Bathrooms - Number of bathrooms\n",
    "* SQFT Living - Squarefeet of house\n",
    "* SQFT Lot - Lot size\n",
    "* Floors - Number of floors\n",
    "* Waterfront - Home location on or off waterfront\n",
    "* View - Quality of view\n",
    "* Condition - Home quality condition \n",
    "* Grade - Quality of building materials\n",
    "* SQFT Above - Squarefeet of home above ground\n",
    "* SQFT Basement - Squarefeet of home bsement\n",
    "* Year Built\n",
    "* Year Renovated\n",
    "* Zipcode\n",
    "* Latitude\n",
    "* Longitude\n",
    "* SQFT Living15 - The square footage of interior housing living space for the nearest 15 neighbors\n",
    "* SQFT Lot15 - The square footage of the land lots of the nearest 15 neighbors\n",
    "     \n",
    "The goal of this project is to predict the price of future home sales using the provided data. Initally, the data must be cleaned prior to exploration, and modeling, where multivariate linear regression will be used to provide the most accurate predictive model as possible.  \n",
    "\n",
    "Aside from predicting the price of future home sales in the area, it's important to ask a few questions to gain further insight into the King County real estate market. These questions are geared toward real estate investing for home price appreciation and rental income. As the questions are geared more toward investing, higher priced homes will not be as relevant in this dataset.\n",
    "\n",
    "__Questions:__\n",
    "- Is there an ideal location for investing? In terms of price per squarefoot, build quality, and home condition\n",
    "- Is there an ideal month to purchase a home for investing? Cheaper months to buy an investment\n",
    "- Does renovating a home increase the sale price?\n",
    "\n"
   ]
  },
  {
   "cell_type": "markdown",
   "metadata": {},
   "source": [
    "# Scrub Data"
   ]
  },
  {
   "cell_type": "markdown",
   "metadata": {},
   "source": [
    "__Fill Null__\n",
    "\n",
    "There are 21 total columns within the dataset, most with 21597 rows. However, there are some missing values that need to be addressed immediately.\n",
    "\n",
    "- waterfront - 2376 missing values\n",
    "- view - 63 mising values\n",
    "- yr_renovated - 3842 missing values\n",
    "\n",
    "Each one of these variables have mostly zero values (>90%), so to deal with the null values for each it's best to fill these missing values with zeros\n",
    "\n",
    "__Convert Data Types__\n",
    "\n",
    "Date and sqft_basement are both dtype objects. Date should be in date-time format to explore price of house vs month sold, and sqft_basement is a number so it was converted to a float dtype \n",
    "\n",
    "__Drop Duplicates__\n",
    "\n",
    "Drop any duplicated homes on 'id' to avoid multiple inputs and potential future\n",
    "conflict in the modeling process. There were 177 duplicates dropped\n",
    "\n",
    "__Check for Extranous Values__\n",
    "\n",
    "An outlier in bedrooms was detected witha  value of 33, but the square footage of the house is 1620. This is treated as a type and changed to 3 bedrooms\n",
    "\n",
    "__Create Price/Sqft column__\n",
    "\n",
    "As investing in afforable homes is of interest, it's best to look at home values through price per square foot. This provides further insight into house values"
   ]
  },
  {
   "cell_type": "markdown",
   "metadata": {},
   "source": [
    "# Explore Data"
   ]
  },
  {
   "cell_type": "markdown",
   "metadata": {},
   "source": [
    "To better understand the data that was provided, it's best to visualize each variable in graph form to determine whether to use it as a continuous variable or categorical variable. This process will also help gain insight into collinear features that need to be discarded prior to modeling.\n",
    "\n",
    "__Correlation Check__\n",
    "\n",
    "A quick correlation check reveals that sqft_living correlates strongly with sqft_living15 (0.76) and sqft_above (0.73), as does sqft_lot with sqft_lot15 (0.72). These three variables (sqft_living15, sqft_lot15, sqft_above) can be dropped immediate to avoid future conflict.\n",
    "\n",
    "__Determine Categorical vs Continuous Variables__\n",
    "\n",
    "After an initial look at the data:\n",
    "\n",
    "Drop:\n",
    "- 'id' - House id won't be a predictor of price\n",
    "- 'date' - Month of house sold is the only important part of date, and a month column has been created\n",
    "- 'view' - View is excluded as a predictor\n",
    "         \n",
    "Dependent Variable:\n",
    "- 'price'\n",
    "         \n",
    "Continuous Variables:\n",
    "- 'bedrooms'\n",
    "- 'sqft_living'\n",
    "- 'sqft_lot'\n",
    "- 'condition'\n",
    "- 'grade'\n",
    "- 'yr_built'\n",
    "- 'price_sqft'\n",
    "\n",
    "*As to not overcomplicate categorical variables, keep bedrooms, condition, year built, and grade as continuous to see how they come out. It's possible to convert them to categorical after the initial modeling has been done.*\n",
    "    \n",
    "Categorical Variables:\n",
    "- 'bathrooms' - categorical due to correlation with sqft_living\n",
    "- 'floors'\n",
    "- 'waterfront'\n",
    "- 'sqft_basement' - binary yes, or no basement\n",
    "- 'yr_renovated' - binary yes, or no renovated\n",
    "- 'zipcode'\n",
    "- 'lat' - break into quadrants\n",
    "- 'long' - break into quadrants\n",
    "- 'month' - categorize into seasons"
   ]
  },
  {
   "cell_type": "markdown",
   "metadata": {},
   "source": [
    "__Explore Continuous Variables__\n",
    "\n",
    "After visualizing the histograms, there seems to be quite a bit of skewness for most continuous variables. Grade and possibly bedrooms seem to have the only normally distributed histogram. This will be addressed later with log transformations\n",
    "\n",
    "A few scatter plot examples of continuous variables:\n",
    "\n",
    "![](./Images/sqft_lot_scatter.PNG) ![](./Images/sqft_living_scatter.PNG)\n",
    "![](./Images/grade_scatter.PNG)\n",
    "\n",
    "\n",
    "Sqft_living and grade, show a positive correlation with home price. Whereas sqft_lot and year built dont seem to have as much of a correlation. \n",
    "\n",
    "Clean the data of outliers in sqft_lot, remove homes priced above 2 million dollars, and sqft lots above 250000sqft. This may help with creating more linear correlations with price across all continuous variables.\n",
    "\n",
    "As this investigation isn't interested in investing in higher priced homes, it's probably safe to remove these outliers.\n",
    "\n",
    "\n",
    "__Log Transformations__\n",
    "\n",
    "Perform log transformations on all continuous variables to address skewness and create normal distributions for modeling.\n",
    "\n",
    "![](./Images/log_transforms.PNG)\n",
    "\n",
    "Log transformations seem to help with bedroom, squarefoot living, and squarefoot lot, so keep those variables with log transformations in the model. We will exclude log transformations for price, condition, grade and year built from our data to be modeled.\n",
    "\n",
    "__Categorical Variables__\n",
    "\n",
    "Perform binning and one hot encoding on categorical variables prior to modeling. \n"
   ]
  },
  {
   "cell_type": "markdown",
   "metadata": {},
   "source": [
    "# Model"
   ]
  },
  {
   "cell_type": "markdown",
   "metadata": {},
   "source": [
    "__Baseline Model__\n",
    "\n",
    "The baseline model used 92 different categories. This high number is mainly due to categorizing each individual zipcode. The baseline model used statsmodel to perform and ordinary least squares regression. Here are the results of the first model:\n",
    "\n",
    "![](./Images/model1_results.PNG)\n",
    "\n",
    "Right away, the baseline model has an adjusted R-squared value of 0.802. This means that the model explains 80.2% of the variability in the response data around its mean. This seems too high for a baseline model. It could indicate the model is too complex and overfitting could be an issue. This can be checked through a test-train split to assess test data against the trained model.\n",
    "\n",
    "The test-train split resulted an error of around 11%. This means that the initial model shouldnt be overfit since the test and train values are relatively close.\n",
    "\n",
    "High p-values from baseline model:\n",
    "\n",
    "    sqft_basement\n",
    "    fl_(1.0, 2.0]\n",
    "    fl_(2.0, 3.5]\n",
    "    ba_(6, 9]\n",
    "    lat_(47.57, 48.0]\n",
    "    mo_(3, 6]\n",
    "    A handful of zipcodes\n",
    "\n",
    "These can be dropped in the subsequent model to see if the r-squared value will improve."
   ]
  },
  {
   "cell_type": "markdown",
   "metadata": {},
   "source": [
    "__Model 2__\n",
    "\n",
    "![](./Images/model2_results.PNG)\n",
    "\n",
    "Dropping the high p-value variables from above didnt have much of an effect on the adjusted r-squared value at all. However after running a test train split, the test and train mean squared error values were effectively identical."
   ]
  },
  {
   "cell_type": "markdown",
   "metadata": {},
   "source": [
    "__Stepwise Regression__\n",
    "\n",
    "Used stepwise regression to go through an iterative process where the lowest p-value variables are added to a model, and high p-value variables are rejected. This dropped 8 unwanted variables with high p-values, but returned an adjusted r-squared value that was the same as model 2."
   ]
  },
  {
   "cell_type": "markdown",
   "metadata": {},
   "source": [
    "# Interperet"
   ]
  },
  {
   "cell_type": "markdown",
   "metadata": {},
   "source": [
    "The models didn't change much through a few iterations. The adjusted r-squared value stayed around 0.80, which means the model accounts for 80% accuracy when predicting home prices in the Kin County region. 13% of predictions underestimated houses by 100,000, and 16% overestimated houses by $100000\n",
    "\n",
    "![](./Images/Predicted_vs_Actual.PNG)\n",
    "\n",
    "The predicted vs actual home price scatter plot shows a fairly nice 1 to 1 linear relationship between the two variables. However, the plotted values tend to skew higher than the average for more expensive homes."
   ]
  },
  {
   "cell_type": "markdown",
   "metadata": {},
   "source": [
    "## Ideal Investing Location"
   ]
  },
  {
   "cell_type": "markdown",
   "metadata": {},
   "source": [
    "![](./Images/Price_sqft.PNG)\n",
    "\n",
    "The most expensive homes in terms of price per square foot are clustered close to Seattle's city center. Whereas the least expensive homes are south of the city around and below 47.5 north latitude, with a small cluster located north of the city north of 47.7 north latitude. These areas are a good starting point to investigate housing locations for investment purposes. The entry price points will be more ideal for rental housing income.\n",
    "\n",
    "Looking at building grade materials and condition reveal the same insight. Both of these locations have average house conditions ideal for renovations that could consequently greatly increase the equity value in a home for either immediate resale, or subsequent rental income."
   ]
  },
  {
   "cell_type": "markdown",
   "metadata": {},
   "source": [
    "## Best Months for House Sale/Purchase"
   ]
  },
  {
   "cell_type": "markdown",
   "metadata": {},
   "source": [
    "Average home sale prices based off of month sold reveal the best time to sell a home is April through June, whereas the best time to purchase a home falls between November and February. This makes sense as the summer months are a more favorable time of year for families to relocate when school is on break. This drives both supply and demand up during this time\n",
    "\n",
    "![](./Images/avg_sale_price_month.PNG)\n",
    "![](./Images/avg_sale_price_sqft_month.PNG)"
   ]
  },
  {
   "cell_type": "markdown",
   "metadata": {},
   "source": [
    "## House Renovation"
   ]
  },
  {
   "cell_type": "markdown",
   "metadata": {},
   "source": [
    "A look at average home values of renovated and unrenovated homes, it's clear that remodeling existing home can signifcantly increase its value. The below bar graph shows renovated homes are on average over 150,000 more expensive than unrenovated homes. For investing, this is why it's so important to find locations with below average listing prices that could use an upgrade on building materials and overall condition. Investing in these types of homes will undoubtedly increase home equity and return on investment. \n",
    "\n",
    "![](./Images/renovated.PNG)"
   ]
  },
  {
   "cell_type": "markdown",
   "metadata": {},
   "source": [
    "# Conclusions and Recommendations"
   ]
  },
  {
   "cell_type": "markdown",
   "metadata": {},
   "source": [
    "The dataset of home sale prices in the King County area provided enough variable information to perform linear regression models that yielded approximately 80% predictive accuracy. The model was constrained to houses valued below 2 million, with lot sizes under 250,000 square feet. Even with these contraints, the models predictive capabilities deviated with higher home prices. The deviation really becomes apparent at around $1.25 million.\n",
    "\n",
    "The most signifiant coefficient is zipcode with a range between -62900 and 894000, the second most significant postive coefficient is square feet of a home at 234000, and the most negative coefficient is bedrooms. The positive coefficients indicate the weight of influence the independent variables have on the mean of the dependent variable to increase; there is the opposite effect for negative coefficients on the dependent variable.\n",
    "\n",
    "Questions:\n",
    "1. Is there an ideal location for investing? -- Taking into account price per square foot, home condition, and building materials, the two best areas to invest in are south of Seattles city center, and a small pocket north of the city. These areas provide a below average price per square foot along with average conditions and building materials ideal for renovations before renting.\n",
    "2. When is the best time to buy/sell a home? -- Purchasing a home for investment purchases should be in the winter months between November and February, whereas selling an investment property should be done between April and June for a higher return on investment.\n",
    "3. Is there a signifant difference in home price between unrenovated and renovated home? -- The data shows that renovating a home can potentially increase its value by over $150,000\n",
    "\n",
    "Recommendation:\n",
    "\n",
    "The initial steps in creating a predictive home price model provided 80% accuracy, but there is always room for improvement. Taking more data into account can help increase the models predictive capabilities. Adding more variables such as population density, crime rate, school rating, proximity to amenities, and proximity to industrial areas would definitely help in doing so. \n",
    "\n",
    "As home prices increased, the model became less accurate, so somehow refining the model based on price-points of interest could also help tighten the model for accuracy."
   ]
  },
  {
   "cell_type": "code",
   "execution_count": null,
   "metadata": {},
   "outputs": [],
   "source": []
  }
 ],
 "metadata": {
  "kernelspec": {
   "display_name": "Python 3",
   "language": "python",
   "name": "python3"
  },
  "language_info": {
   "codemirror_mode": {
    "name": "ipython",
    "version": 3
   },
   "file_extension": ".py",
   "mimetype": "text/x-python",
   "name": "python",
   "nbconvert_exporter": "python",
   "pygments_lexer": "ipython3",
   "version": "3.7.4"
  },
  "toc": {
   "base_numbering": 1,
   "nav_menu": {},
   "number_sections": true,
   "sideBar": true,
   "skip_h1_title": false,
   "title_cell": "Table of Contents",
   "title_sidebar": "Contents",
   "toc_cell": false,
   "toc_position": {},
   "toc_section_display": true,
   "toc_window_display": true
  },
  "varInspector": {
   "cols": {
    "lenName": 16,
    "lenType": 16,
    "lenVar": 40
   },
   "kernels_config": {
    "python": {
     "delete_cmd_postfix": "",
     "delete_cmd_prefix": "del ",
     "library": "var_list.py",
     "varRefreshCmd": "print(var_dic_list())"
    },
    "r": {
     "delete_cmd_postfix": ") ",
     "delete_cmd_prefix": "rm(",
     "library": "var_list.r",
     "varRefreshCmd": "cat(var_dic_list()) "
    }
   },
   "types_to_exclude": [
    "module",
    "function",
    "builtin_function_or_method",
    "instance",
    "_Feature"
   ],
   "window_display": false
  }
 },
 "nbformat": 4,
 "nbformat_minor": 2
}
